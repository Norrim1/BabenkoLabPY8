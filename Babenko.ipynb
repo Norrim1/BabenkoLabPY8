{
 "cells": [
  {
   "cell_type": "markdown",
   "metadata": {},
   "source": [
    "Посмотрите, что означают параметры ll, spn, l и c помощью запросов к API через браузер получите:\n",
    "\n",
    "a) Крупномасштабную схему с КемГУ\n",
    "https://static-maps.yandex.ru/1.x/?ll=86.091997,55.351359&spn=0.002,0.002&l=map\n",
    "\n",
    "b) Крупномасштабную схему района, в котором вы живете\n",
    "https://static-maps.yandex.ru/1.x/?ll=86.168996,55.341273&spn=0.025,0.025&l=map\n",
    "\n",
    "c) Крупномасштабную схему города, в котором вы родились\n",
    "https://static-maps.yandex.ru/1.x/?ll=86.636593,54.006244&spn=0.05,0.05&l=map\n",
    "(Более конкретно)\n",
    "https://static-maps.yandex.ru/1.x/?ll=86.704510,54.006181&spn=0.017,0.017&l=map\n",
    "\n",
    "d) Спутниковый снимок Эйфелевой башни\n",
    "https://static-maps.yandex.ru/1.x/?ll=2.294541,48.858171&spn=0.002,0.002&l=map\n",
    "\n",
    "e) Спутниковый снимок Авачинского вулкана\n",
    "https://static-maps.yandex.ru/1.x/?ll=158.837425,53.257055&spn=0.1,0.1&l=map\n",
    "\n",
    "f) Спутниковый снимок озера Байкал\n",
    "https://static-maps.yandex.ru/1.x/?ll=108.290479,53.401533&spn=3.8,3.8&l=map\n",
    "\n",
    "g) Спутниковый снимок космодрома Байконур\n",
    "https://static-maps.yandex.ru/1.x/?ll=63.293566,45.626977&spn=0.05,0.05&l=map\n",
    "\n"
   ]
  },
  {
   "cell_type": "markdown",
   "metadata": {},
   "source": [
    "Ознакомьтесь с документацией, попробуйте сделать запросы, чтобы понять, что означают ответы\n",
    "геокодера, и ответьте на следующие вопросы (для каждого пункта укажите запрос, который\n",
    "использовали, и полученный ответ(они в файлах .json)):\n",
    "\n",
    "a) Получите координаты Якутска и Магадана в формате JSON. Какой город находится севернее:\n",
    "Якутск или Магадан?\n",
    "\n",
    "https://geocode-maps.yandex.ru/v1/?apikey=ThereWasBabenkoAPIKEY&geocode=Якутск+город&format=json\n",
    "Якутск: \"pos\": \"129.732178 62.027221\"\n",
    "\n",
    "https://geocode-maps.yandex.ru/v1/?apikey=ThereWasBabenkoAPIKEY&geocode=Магадан+город&format=json\n",
    "Магадан: \"pos\": \"150.808586 59.565155\"\n",
    "\n",
    "Т.к. второй параметр отвечает за широту - Якутск севернее.\n",
    "\n",
    "b) Получите координаты вашего родного города и города Торонто в формате JSON. Какой\n",
    "город из них находится южнее?\n",
    "\n",
    "Киселёвск:\n",
    "https://geocode-maps.yandex.ru/v1/?apikey=ThereWasBabenkoAPIKEY&geocode=Киселёвск+город&format=json\n",
    "\"pos\": \"86.636742 54.006072\"\n",
    "\n",
    "Торонто:\n",
    "https://geocode-maps.yandex.ru/v1/?apikey=ThereWasBabenkoAPIKEY&geocode=Торонто+город&format=json\n",
    "\"pos\": \"-79.39271 43.665208\"\n",
    "\n",
    "Торонто находится находится южнее Киселёвска.\n",
    "\n",
    "c) Определите к каким федеральным округам относятся города: Хабаровск, Уфа, Нижний\n",
    "Новгород, Калининград, ваш родной город?\n",
    "\n",
    "https://geocode-maps.yandex.ru/v1/?apikey=ThereWasBabenkoAPIKEY&geocode=Хабаровск+город&format=json\n",
    "Хабаровск\n",
    " {\n",
    "                        \"kind\": \"province\",\n",
    "                        \"name\": \"Дальневосточный федеральный округ\"\n",
    "                      },\n",
    "\n",
    "https://geocode-maps.yandex.ru/v1/?apikey=ThereWasBabenkoAPIKEY&geocode=Уфа+город&format=json\n",
    "Уфа\n",
    "{\n",
    "                        \"kind\": \"province\",\n",
    "                        \"name\": \"Приволжский федеральный округ\"\n",
    "                      },\n",
    "\n",
    "https://geocode-maps.yandex.ru/v1/?apikey=ThereWasBabenkoAPIKEY&geocode=Нижний+Новгород+город&format=json\n",
    "Нижний\n",
    "Новгород\n",
    "{\n",
    "                        \"kind\": \"province\",\n",
    "                        \"name\": \"Приволжский федеральный округ\"\n",
    "                      },\n",
    "\n",
    "https://geocode-maps.yandex.ru/v1/?apikey=ThereWasBabenkoAPIKEY&geocode=Калининград+город&format=json\n",
    "Калининград\n",
    "{\n",
    "                        \"kind\": \"province\",\n",
    "                        \"name\": \"Северо-Западный федеральный округ\"\n",
    "                      },\n",
    "\n",
    "Киселёвск\n",
    "{\n",
    "                        \"kind\": \"province\",\n",
    "                        \"name\": \"Сибирский федеральный округ\"\n",
    "                      },\n",
    "\n",
    "d) Узнайте почтовый индекс КемГУ\n",
    "https://geocode-maps.yandex.ru/v1/?apikey=ThereWasBabenkoAPIKEY&geocode=86.090948,55.351848&format=json&results=1\n",
    "\"postal_code\": \"650000\","
   ]
  },
  {
   "cell_type": "markdown",
   "metadata": {},
   "source": [
    "Для выполнения следующих заданий используйте подходящий API сервис.\n",
    "№3 (1 балл)\n",
    "\n",
    "Напишите программу, которая на экране распечатает полный адрес и координаты Исторического\n",
    "музея города Москвы (Красная пл-дь, 1)."
   ]
  },
  {
   "cell_type": "code",
   "execution_count": null,
   "metadata": {},
   "outputs": [
    {
     "name": "stdout",
     "output_type": "stream",
     "text": [
      "Полный адрес: Россия, Москва, Красная площадь, 1\n",
      "Координаты: 37.61768, 55.755277\n"
     ]
    }
   ],
   "source": [
    "import requests\n",
    "\n",
    "api_key = \"ThereWasBabenkoAPIKEY\"\n",
    "url = f\"https://geocode-maps.yandex.ru/1.x/?apikey={api_key}&geocode=Красная+пл-дь+1+Москва&format=json\"\n",
    "response = requests.get(url)\n",
    "data = response.json()\n",
    "geo_obj = data[\"response\"][\"GeoObjectCollection\"][\"featureMember\"][0][\"GeoObject\"]\n",
    "address = geo_obj[\"metaDataProperty\"][\"GeocoderMetaData\"][\"text\"]\n",
    "coord = geo_obj[\"Point\"][\"pos\"].split()\n",
    "        \n",
    "print(\"Полный адрес:\", address)\n",
    "print(\"Координаты:\",\", \".join(coord))"
   ]
  },
  {
   "cell_type": "markdown",
   "metadata": {},
   "source": [
    "№4 (1 балл)\n",
    "Напишите программу, которая распечатает на экране к каким областям относятся города: Барнаул,\n",
    "Мелеуз, Йошкар-Ола."
   ]
  },
  {
   "cell_type": "code",
   "execution_count": null,
   "metadata": {},
   "outputs": [
    {
     "name": "stdout",
     "output_type": "stream",
     "text": [
      "Алтайский край\n",
      "Республика Башкортостан\n",
      "Республика Марий Эл\n"
     ]
    }
   ],
   "source": [
    "import requests\n",
    "\n",
    "api_key = \"ThereWasBabenkoAPIKEY\"\n",
    "url = f\"https://geocode-maps.yandex.ru/1.x/?apikey={api_key}&geocode=Барнаул+город&format=json\"\n",
    "response = requests.get(url)\n",
    "data = response.json()\n",
    "geo_obj = data[\"response\"][\"GeoObjectCollection\"][\"featureMember\"][0][\"GeoObject\"]\n",
    "province = geo_obj[\"metaDataProperty\"][\"GeocoderMetaData\"][\"Address\"][\"Components\"][2][\"name\"]\n",
    "print(province)\n",
    "url = f\"https://geocode-maps.yandex.ru/1.x/?apikey={api_key}&geocode=Мелеуз+город&format=json\"\n",
    "response = requests.get(url)\n",
    "data = response.json()\n",
    "geo_obj = data[\"response\"][\"GeoObjectCollection\"][\"featureMember\"][0][\"GeoObject\"]\n",
    "province = geo_obj[\"metaDataProperty\"][\"GeocoderMetaData\"][\"Address\"][\"Components\"][2][\"name\"]\n",
    "print(province)\n",
    "url = f\"https://geocode-maps.yandex.ru/1.x/?apikey={api_key}&geocode=Йошкар-Ола+город&format=json\"\n",
    "response = requests.get(url)\n",
    "data = response.json()\n",
    "geo_obj = data[\"response\"][\"GeoObjectCollection\"][\"featureMember\"][0][\"GeoObject\"]\n",
    "province = geo_obj[\"metaDataProperty\"][\"GeocoderMetaData\"][\"Address\"][\"Components\"][2][\"name\"]\n",
    "print(province)"
   ]
  },
  {
   "cell_type": "markdown",
   "metadata": {},
   "source": [
    "№5 (1 балл)\n",
    "Напишите программу, которая распечатает на экране почтовый индекс Московского Уголовного\n",
    "Розыска (МУРа) «Петровки, 38»."
   ]
  },
  {
   "cell_type": "code",
   "execution_count": null,
   "metadata": {},
   "outputs": [
    {
     "name": "stdout",
     "output_type": "stream",
     "text": [
      "127006\n"
     ]
    }
   ],
   "source": [
    "import requests\n",
    "\n",
    "api_key = \"ThereWasBabenkoAPIKEY\"\n",
    "url = f\"https://geocode-maps.yandex.ru/1.x/?apikey={api_key}&geocode=Петровка+38+Москва&format=json\"\n",
    "response = requests.get(url)\n",
    "data = response.json()\n",
    "geo_obj = data[\"response\"][\"GeoObjectCollection\"][\"featureMember\"][0][\"GeoObject\"]\n",
    "postal_code = geo_obj[\"metaDataProperty\"][\"GeocoderMetaData\"][\"Address\"].get(\"postal_code\")\n",
    "print(postal_code)"
   ]
  },
  {
   "cell_type": "markdown",
   "metadata": {},
   "source": [
    "№6 (1 балл)\n",
    "Напишите программу, которая загрузит и сохранит в файл спутниковый снимок Австралии\n",
    "целиком."
   ]
  },
  {
   "cell_type": "code",
   "execution_count": null,
   "metadata": {},
   "outputs": [],
   "source": []
  }
 ],
 "metadata": {
  "kernelspec": {
   "display_name": "Python 3",
   "language": "python",
   "name": "python3"
  },
  "language_info": {
   "codemirror_mode": {
    "name": "ipython",
    "version": 3
   },
   "file_extension": ".py",
   "mimetype": "text/x-python",
   "name": "python",
   "nbconvert_exporter": "python",
   "pygments_lexer": "ipython3",
   "version": "3.13.3"
  }
 },
 "nbformat": 4,
 "nbformat_minor": 2
}
