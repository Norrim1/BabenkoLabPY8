{
 "cells": [
  {
   "cell_type": "markdown",
   "metadata": {},
   "source": [
    "Посмотрите, что означают параметры ll, spn, l и c помощью запросов к API через браузер получите:\n",
    "a) Крупномасштабную схему с КемГУ\n",
    "https://static-maps.yandex.ru/1.x/?ll=86.091997,55.351359&spn=0.002,0.002&l=map\n",
    "b) Крупномасштабную схему района, в котором вы живете\n",
    "https://static-maps.yandex.ru/1.x/?ll=86.168996,55.341273&spn=0.025,0.025&l=map\n",
    "c) Крупномасштабную схему города, в котором вы родились\n",
    "https://static-maps.yandex.ru/1.x/?ll=86.636593,54.006244&spn=0.05,0.05&l=map\n",
    "(Более конкретно)\n",
    "https://static-maps.yandex.ru/1.x/?ll=86.704510,54.006181&spn=0.017,0.017&l=map\n",
    "d) Спутниковый снимок Эйфелевой башни\n",
    "https://static-maps.yandex.ru/1.x/?ll=2.294541,48.858171&spn=0.002,0.002&l=map\n",
    "e) Спутниковый снимок Авачинского вулкана\n",
    "https://static-maps.yandex.ru/1.x/?ll=158.837425,53.257055&spn=0.1,0.1&l=map\n",
    "f) Спутниковый снимок озера Байкал\n",
    "g) Спутниковый снимок космодрома Байконур\n",
    "\n"
   ]
  }
 ],
 "metadata": {
  "language_info": {
   "name": "python"
  }
 },
 "nbformat": 4,
 "nbformat_minor": 2
}
